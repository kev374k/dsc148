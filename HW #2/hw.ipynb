{
 "cells": [
  {
   "cell_type": "code",
   "execution_count": 2,
   "metadata": {},
   "outputs": [],
   "source": [
    "import numpy as np\n",
    "import pandas as pd\n",
    "import matplotlib.pyplot as plt"
   ]
  },
  {
   "cell_type": "code",
   "execution_count": 3,
   "metadata": {},
   "outputs": [],
   "source": [
    "car_evaluation = pd.read_csv(\"car_evaluation.csv\")\n",
    "wine = pd.read_csv(\"wine.csv\")"
   ]
  },
  {
   "cell_type": "code",
   "execution_count": 4,
   "metadata": {},
   "outputs": [
    {
     "data": {
      "text/html": [
       "<div>\n",
       "<style scoped>\n",
       "    .dataframe tbody tr th:only-of-type {\n",
       "        vertical-align: middle;\n",
       "    }\n",
       "\n",
       "    .dataframe tbody tr th {\n",
       "        vertical-align: top;\n",
       "    }\n",
       "\n",
       "    .dataframe thead th {\n",
       "        text-align: right;\n",
       "    }\n",
       "</style>\n",
       "<table border=\"1\" class=\"dataframe\">\n",
       "  <thead>\n",
       "    <tr style=\"text-align: right;\">\n",
       "      <th></th>\n",
       "      <th>buying</th>\n",
       "      <th>maintenance</th>\n",
       "      <th>doors</th>\n",
       "      <th>persons</th>\n",
       "      <th>lug_boot</th>\n",
       "      <th>safety</th>\n",
       "      <th>label</th>\n",
       "    </tr>\n",
       "  </thead>\n",
       "  <tbody>\n",
       "    <tr>\n",
       "      <th>0</th>\n",
       "      <td>4</td>\n",
       "      <td>4</td>\n",
       "      <td>2</td>\n",
       "      <td>2</td>\n",
       "      <td>1</td>\n",
       "      <td>1</td>\n",
       "      <td>0</td>\n",
       "    </tr>\n",
       "    <tr>\n",
       "      <th>1</th>\n",
       "      <td>4</td>\n",
       "      <td>4</td>\n",
       "      <td>2</td>\n",
       "      <td>2</td>\n",
       "      <td>1</td>\n",
       "      <td>2</td>\n",
       "      <td>0</td>\n",
       "    </tr>\n",
       "    <tr>\n",
       "      <th>2</th>\n",
       "      <td>4</td>\n",
       "      <td>4</td>\n",
       "      <td>2</td>\n",
       "      <td>2</td>\n",
       "      <td>1</td>\n",
       "      <td>3</td>\n",
       "      <td>0</td>\n",
       "    </tr>\n",
       "    <tr>\n",
       "      <th>3</th>\n",
       "      <td>4</td>\n",
       "      <td>4</td>\n",
       "      <td>2</td>\n",
       "      <td>2</td>\n",
       "      <td>2</td>\n",
       "      <td>1</td>\n",
       "      <td>0</td>\n",
       "    </tr>\n",
       "    <tr>\n",
       "      <th>4</th>\n",
       "      <td>4</td>\n",
       "      <td>4</td>\n",
       "      <td>2</td>\n",
       "      <td>2</td>\n",
       "      <td>2</td>\n",
       "      <td>2</td>\n",
       "      <td>0</td>\n",
       "    </tr>\n",
       "  </tbody>\n",
       "</table>\n",
       "</div>"
      ],
      "text/plain": [
       "   buying  maintenance  doors  persons  lug_boot  safety  label\n",
       "0       4            4      2        2         1       1      0\n",
       "1       4            4      2        2         1       2      0\n",
       "2       4            4      2        2         1       3      0\n",
       "3       4            4      2        2         2       1      0\n",
       "4       4            4      2        2         2       2      0"
      ]
     },
     "execution_count": 4,
     "metadata": {},
     "output_type": "execute_result"
    }
   ],
   "source": [
    "car_evaluation.head()"
   ]
  },
  {
   "cell_type": "code",
   "execution_count": 5,
   "metadata": {},
   "outputs": [
    {
     "data": {
      "text/html": [
       "<div>\n",
       "<style scoped>\n",
       "    .dataframe tbody tr th:only-of-type {\n",
       "        vertical-align: middle;\n",
       "    }\n",
       "\n",
       "    .dataframe tbody tr th {\n",
       "        vertical-align: top;\n",
       "    }\n",
       "\n",
       "    .dataframe thead th {\n",
       "        text-align: right;\n",
       "    }\n",
       "</style>\n",
       "<table border=\"1\" class=\"dataframe\">\n",
       "  <thead>\n",
       "    <tr style=\"text-align: right;\">\n",
       "      <th></th>\n",
       "      <th>fixed acidity</th>\n",
       "      <th>volatile acidity</th>\n",
       "      <th>citric acid</th>\n",
       "      <th>residual sugar</th>\n",
       "      <th>chlorides</th>\n",
       "      <th>free sulfur dioxide</th>\n",
       "      <th>total sulfur dioxide</th>\n",
       "      <th>density</th>\n",
       "      <th>pH</th>\n",
       "      <th>sulphates</th>\n",
       "      <th>alcohol</th>\n",
       "      <th>quality</th>\n",
       "    </tr>\n",
       "  </thead>\n",
       "  <tbody>\n",
       "    <tr>\n",
       "      <th>0</th>\n",
       "      <td>7.4</td>\n",
       "      <td>0.70</td>\n",
       "      <td>0.00</td>\n",
       "      <td>1.9</td>\n",
       "      <td>0.076</td>\n",
       "      <td>11.0</td>\n",
       "      <td>34.0</td>\n",
       "      <td>0.9978</td>\n",
       "      <td>3.51</td>\n",
       "      <td>0.56</td>\n",
       "      <td>9.4</td>\n",
       "      <td>5</td>\n",
       "    </tr>\n",
       "    <tr>\n",
       "      <th>1</th>\n",
       "      <td>7.8</td>\n",
       "      <td>0.88</td>\n",
       "      <td>0.00</td>\n",
       "      <td>2.6</td>\n",
       "      <td>0.098</td>\n",
       "      <td>25.0</td>\n",
       "      <td>67.0</td>\n",
       "      <td>0.9968</td>\n",
       "      <td>3.20</td>\n",
       "      <td>0.68</td>\n",
       "      <td>9.8</td>\n",
       "      <td>5</td>\n",
       "    </tr>\n",
       "    <tr>\n",
       "      <th>2</th>\n",
       "      <td>7.8</td>\n",
       "      <td>0.76</td>\n",
       "      <td>0.04</td>\n",
       "      <td>2.3</td>\n",
       "      <td>0.092</td>\n",
       "      <td>15.0</td>\n",
       "      <td>54.0</td>\n",
       "      <td>0.9970</td>\n",
       "      <td>3.26</td>\n",
       "      <td>0.65</td>\n",
       "      <td>9.8</td>\n",
       "      <td>5</td>\n",
       "    </tr>\n",
       "    <tr>\n",
       "      <th>3</th>\n",
       "      <td>11.2</td>\n",
       "      <td>0.28</td>\n",
       "      <td>0.56</td>\n",
       "      <td>1.9</td>\n",
       "      <td>0.075</td>\n",
       "      <td>17.0</td>\n",
       "      <td>60.0</td>\n",
       "      <td>0.9980</td>\n",
       "      <td>3.16</td>\n",
       "      <td>0.58</td>\n",
       "      <td>9.8</td>\n",
       "      <td>6</td>\n",
       "    </tr>\n",
       "    <tr>\n",
       "      <th>4</th>\n",
       "      <td>7.4</td>\n",
       "      <td>0.70</td>\n",
       "      <td>0.00</td>\n",
       "      <td>1.9</td>\n",
       "      <td>0.076</td>\n",
       "      <td>11.0</td>\n",
       "      <td>34.0</td>\n",
       "      <td>0.9978</td>\n",
       "      <td>3.51</td>\n",
       "      <td>0.56</td>\n",
       "      <td>9.4</td>\n",
       "      <td>5</td>\n",
       "    </tr>\n",
       "  </tbody>\n",
       "</table>\n",
       "</div>"
      ],
      "text/plain": [
       "   fixed acidity  volatile acidity  citric acid  residual sugar  chlorides  \\\n",
       "0            7.4              0.70         0.00             1.9      0.076   \n",
       "1            7.8              0.88         0.00             2.6      0.098   \n",
       "2            7.8              0.76         0.04             2.3      0.092   \n",
       "3           11.2              0.28         0.56             1.9      0.075   \n",
       "4            7.4              0.70         0.00             1.9      0.076   \n",
       "\n",
       "   free sulfur dioxide  total sulfur dioxide  density    pH  sulphates  \\\n",
       "0                 11.0                  34.0   0.9978  3.51       0.56   \n",
       "1                 25.0                  67.0   0.9968  3.20       0.68   \n",
       "2                 15.0                  54.0   0.9970  3.26       0.65   \n",
       "3                 17.0                  60.0   0.9980  3.16       0.58   \n",
       "4                 11.0                  34.0   0.9978  3.51       0.56   \n",
       "\n",
       "   alcohol  quality  \n",
       "0      9.4        5  \n",
       "1      9.8        5  \n",
       "2      9.8        5  \n",
       "3      9.8        6  \n",
       "4      9.4        5  "
      ]
     },
     "execution_count": 5,
     "metadata": {},
     "output_type": "execute_result"
    }
   ],
   "source": [
    "wine.head()"
   ]
  },
  {
   "cell_type": "markdown",
   "metadata": {},
   "source": [
    "1) Kernel functions are the functions that map one space to a higher dimensional space. This question demon-\n",
    "strates the primary use of kernel functions in SVM. Consider four points: A = (1, 1), B = (2, 2), C = (2, 1),\n",
    "D = (1, 2) and two labels red, blue. Suppose A, B belong to the label red and C, D belong to the label blue."
   ]
  },
  {
   "cell_type": "code",
   "execution_count": 6,
   "metadata": {},
   "outputs": [
    {
     "data": {
      "text/plain": [
       "[<matplotlib.lines.Line2D at 0x14c85c290>]"
      ]
     },
     "execution_count": 6,
     "metadata": {},
     "output_type": "execute_result"
    },
    {
     "data": {
      "image/png": "[encoded data removed]",
      "text/plain": [
       "<Figure size 640x480 with 1 Axes>"
      ]
     },
     "metadata": {},
     "output_type": "display_data"
    }
   ],
   "source": [
    "# 1a) Are labels red and blue linearly separable? Explain your reasoning in words with visualization\n",
    "\n",
    "A = (1, 1)\n",
    "B = (2, 2)\n",
    "C = (2, 1)\n",
    "D = (1, 2)\n",
    "\n",
    "red_points = [A, B]\n",
    "blue_points = [C, D]\n",
    "\n",
    "red_x = [point[0] for point in red_points]\n",
    "red_y = [point[1] for point in red_points]\n",
    "\n",
    "blue_x = [point[0] for point in blue_points]\n",
    "blue_y = [point[1] for point in blue_points]\n",
    "\n",
    "# Plot the points\n",
    "plt.scatter(red_x, red_y, color=\"red\", label=\"Red Points (A, B)\")\n",
    "plt.scatter(blue_x, blue_y, color=\"blue\", label=\"Blue Points (C, D)\")\n",
    "\n",
    "# Add labels for the points\n",
    "for point, label in zip([A, B, C, D], [\"A\", \"B\", \"C\", \"D\"]):\n",
    "    plt.text(point[0], point[1], label, fontsize=12, ha=\"right\")\n",
    "    \n",
    "# Plot a line to show linear separability (y = x)\n",
    "x_line = [0.5, 2.5]\n",
    "y_line = [0.5, 2.5]\n",
    "plt.plot(x_line, y_line, color='green', linestyle='--', label='Separator Line (y = x)')"
   ]
  },
  {
   "cell_type": "markdown",
   "metadata": {},
   "source": [
    "Since the red points are on the line $y = x$ and the bed points are symmetric to the line $y = x$, this means that these labels are not linearly separable. Since they are symmetrically arranged, no single straight line can separate these to get 100% accuracy with respect to both labels. Additionally, it can be shown that points C and D are on symmetrically opposite sides of line AB, which means that for any line that separates either C or D from the red points, the other will be put on the wrong side."
   ]
  },
  {
   "cell_type": "markdown",
   "metadata": {},
   "source": [
    "1b) Consider the kernel function: ϕ(x) = (x1/x2 , |x1 − x2|, x1 + x2) where x = (x1, x2). We can observe that this kernel function maps 2-dimensional space to 3-dimensional space. What are the points A, B, C, D after transformation?\n",
    "\n",
    "A = ϕ(1, 1) = (1, 0, 2)\n",
    "\n",
    "B = ϕ(2, 2) = (1, 0, 4)\n",
    "\n",
    "C = ϕ(2, 1) = (2, 1, 3)\n",
    "\n",
    "D = ϕ(1, 2) = (0.5, 1, 3)"
   ]
  },
  {
   "cell_type": "markdown",
   "metadata": {},
   "source": [
    "1c) Are labels red and blue linearly separable after the transformation? Explain your reasoning.\n",
    "\n",
    "After the kernel transformation, the labels red and blue are linearly separable. This can be seen easily, as when we group them by their label, we can notice that each label has something unique to it. For instance, label red (A and B) both have y = 0, while label blue (C and D) have y = 1. This leads us to conclude that a line in between 0 and 1 (i.e. y = 0.5) could be a line that could linearly separate the two labels. "
   ]
  },
  {
   "cell_type": "markdown",
   "metadata": {},
   "source": [
    "2) Naive Bayes"
   ]
  },
  {
   "cell_type": "markdown",
   "metadata": {},
   "source": [
    "2a) Suppose we have a large training set with 100,000 samples. There are 3 different classes and 4 different features in the training set. Each distinct features can take 5 different values. How many parameters do we need to estimate, if we don’t make the naive Bayes assumption? How many parameters do we need to estimate, if we make the naive Bayes assumption?\n",
    "\n",
    "Without the Naive Bayes assumption, we cannot assume conditional independence between features and values. This means that for each feature, we need to estimate the joint probability for each class, such that we can estimate P(feature1, feature2, feature3, feature4 | Class):\n",
    "\n",
    "* This means that since we have 4 different features, each with 5 different values, this results in (5 x 5 x 5 x 5) = 625. For 625 combinations, we need 624 parameters, since probabilities can sum up to 1. Additionally, we need to multiply this by 3, in order to account for all classes that need to be predicted.\n",
    "* Additionally, to estimate the probability of each class, we need 2 parameters (probabilities add to 1).\n",
    "* Finally, we have (624 * 3) + 2 = 1874 total parameters \n",
    "\n",
    "With the Naive Bayes assumption, we need to consider 2 main components:\n",
    "\n",
    "* Class Probabilities: P(Class) for each class: There are 2 parameters needed for this (due to probabilities adding to 1)\n",
    "* P(Feature|Class) for each feature-value given each class: P(feature1, feature2, feature3, feature4 | Class) = P(feature1 | Class) * P(feature2 | Class) * P(feature3 | Class) * P(feature4 | Class). This means we only need to predict P(feature|class) for all features and all classes. This results in us having 4 features, 5 different values, and 3 different classes. However, for each value in each distinct feature, we only need 4, because probabilities sum up to 1, meaning we will need (4 x 4 x 3) = 48 parameters.\n",
    "* Finally, this means we have (2 + 48) = 50 total parameters with the Naive Bayes assumption"
   ]
  },
  {
   "cell_type": "code",
   "execution_count": 8,
   "metadata": {},
   "outputs": [],
   "source": [
    "from sklearn.model_selection import train_test_split\n",
    "\n",
    "X, y = (\n",
    "    car_evaluation.drop(columns=[\"label\"]),\n",
    "    car_evaluation[[\"label\"]]\n",
    ")\n",
    "# split into train & test (0.8, 0.2)\n",
    "X_train, X_test, y_train, y_test = train_test_split(\n",
    "    X, y, test_size=0.2, random_state=42\n",
    ")\n"
   ]
  },
  {
   "cell_type": "code",
   "execution_count": 9,
   "metadata": {},
   "outputs": [
    {
     "data": {
      "text/html": [
       "<div>\n",
       "<style scoped>\n",
       "    .dataframe tbody tr th:only-of-type {\n",
       "        vertical-align: middle;\n",
       "    }\n",
       "\n",
       "    .dataframe tbody tr th {\n",
       "        vertical-align: top;\n",
       "    }\n",
       "\n",
       "    .dataframe thead th {\n",
       "        text-align: right;\n",
       "    }\n",
       "</style>\n",
       "<table border=\"1\" class=\"dataframe\">\n",
       "  <thead>\n",
       "    <tr style=\"text-align: right;\">\n",
       "      <th></th>\n",
       "      <th>buying</th>\n",
       "      <th>maintenance</th>\n",
       "      <th>doors</th>\n",
       "      <th>persons</th>\n",
       "      <th>lug_boot</th>\n",
       "      <th>safety</th>\n",
       "    </tr>\n",
       "  </thead>\n",
       "  <tbody>\n",
       "    <tr>\n",
       "      <th>599</th>\n",
       "      <td>3</td>\n",
       "      <td>3</td>\n",
       "      <td>4</td>\n",
       "      <td>2</td>\n",
       "      <td>2</td>\n",
       "      <td>3</td>\n",
       "    </tr>\n",
       "    <tr>\n",
       "      <th>1201</th>\n",
       "      <td>2</td>\n",
       "      <td>1</td>\n",
       "      <td>2</td>\n",
       "      <td>4</td>\n",
       "      <td>2</td>\n",
       "      <td>2</td>\n",
       "    </tr>\n",
       "    <tr>\n",
       "      <th>628</th>\n",
       "      <td>3</td>\n",
       "      <td>3</td>\n",
       "      <td>5</td>\n",
       "      <td>2</td>\n",
       "      <td>3</td>\n",
       "      <td>2</td>\n",
       "    </tr>\n",
       "    <tr>\n",
       "      <th>1498</th>\n",
       "      <td>1</td>\n",
       "      <td>3</td>\n",
       "      <td>5</td>\n",
       "      <td>4</td>\n",
       "      <td>2</td>\n",
       "      <td>2</td>\n",
       "    </tr>\n",
       "    <tr>\n",
       "      <th>1263</th>\n",
       "      <td>2</td>\n",
       "      <td>1</td>\n",
       "      <td>4</td>\n",
       "      <td>5</td>\n",
       "      <td>2</td>\n",
       "      <td>1</td>\n",
       "    </tr>\n",
       "    <tr>\n",
       "      <th>...</th>\n",
       "      <td>...</td>\n",
       "      <td>...</td>\n",
       "      <td>...</td>\n",
       "      <td>...</td>\n",
       "      <td>...</td>\n",
       "      <td>...</td>\n",
       "    </tr>\n",
       "    <tr>\n",
       "      <th>100</th>\n",
       "      <td>4</td>\n",
       "      <td>4</td>\n",
       "      <td>5</td>\n",
       "      <td>5</td>\n",
       "      <td>1</td>\n",
       "      <td>2</td>\n",
       "    </tr>\n",
       "    <tr>\n",
       "      <th>274</th>\n",
       "      <td>4</td>\n",
       "      <td>2</td>\n",
       "      <td>4</td>\n",
       "      <td>2</td>\n",
       "      <td>2</td>\n",
       "      <td>2</td>\n",
       "    </tr>\n",
       "    <tr>\n",
       "      <th>1206</th>\n",
       "      <td>2</td>\n",
       "      <td>1</td>\n",
       "      <td>2</td>\n",
       "      <td>5</td>\n",
       "      <td>1</td>\n",
       "      <td>1</td>\n",
       "    </tr>\n",
       "    <tr>\n",
       "      <th>101</th>\n",
       "      <td>4</td>\n",
       "      <td>4</td>\n",
       "      <td>5</td>\n",
       "      <td>5</td>\n",
       "      <td>1</td>\n",
       "      <td>3</td>\n",
       "    </tr>\n",
       "    <tr>\n",
       "      <th>1084</th>\n",
       "      <td>2</td>\n",
       "      <td>2</td>\n",
       "      <td>2</td>\n",
       "      <td>2</td>\n",
       "      <td>2</td>\n",
       "      <td>2</td>\n",
       "    </tr>\n",
       "  </tbody>\n",
       "</table>\n",
       "<p>346 rows × 6 columns</p>\n",
       "</div>"
      ],
      "text/plain": [
       "      buying  maintenance  doors  persons  lug_boot  safety\n",
       "599        3            3      4        2         2       3\n",
       "1201       2            1      2        4         2       2\n",
       "628        3            3      5        2         3       2\n",
       "1498       1            3      5        4         2       2\n",
       "1263       2            1      4        5         2       1\n",
       "...      ...          ...    ...      ...       ...     ...\n",
       "100        4            4      5        5         1       2\n",
       "274        4            2      4        2         2       2\n",
       "1206       2            1      2        5         1       1\n",
       "101        4            4      5        5         1       3\n",
       "1084       2            2      2        2         2       2\n",
       "\n",
       "[346 rows x 6 columns]"
      ]
     },
     "execution_count": 9,
     "metadata": {},
     "output_type": "execute_result"
    }
   ],
   "source": [
    "X_test"
   ]
  },
  {
   "cell_type": "code",
   "execution_count": 10,
   "metadata": {},
   "outputs": [
    {
     "name": "stdout",
     "output_type": "stream",
     "text": [
      "Training Accuracy: 0.777027027027027\n",
      "Validation Accuracy: 0.7630057803468208\n",
      "Test Accuracy: 0.7543352601156069\n"
     ]
    }
   ],
   "source": [
    "# 2b) Shuffle the data with random seed 42, and split it into training, validation, and test splits, with a 60/20/20% ratio(e.g., use random_state in sklearn.model_selection.train_test_split). Train a Naive-Bayes classifier (e.g., sklearn.naive_bayes.GaussianNB) on the car-evaluation dataset using all the features and report the training/validation/test accuracy\n",
    "from sklearn.model_selection import train_test_split\n",
    "from sklearn.naive_bayes import GaussianNB\n",
    "\n",
    "X, y = (\n",
    "    car_evaluation.drop(columns=[\"label\"]),\n",
    "    car_evaluation['label']\n",
    ")\n",
    "\n",
    "# split into train & test (0.8, 0.2)\n",
    "X_train, X_test, y_train, y_test = train_test_split(X, y, test_size = 0.2, random_state = 42)\n",
    "\n",
    "# split into train and val (0.6, 0.2)\n",
    "X_train, X_val, y_train, y_val = train_test_split(X_train, y_train, test_size = 0.25, random_state = 42)\n",
    "\n",
    "model = GaussianNB()\n",
    "model.fit(X_train, y_train)\n",
    "\n",
    "# training accuracy\n",
    "training_pred = model.predict(X_train)\n",
    "print(f\"Training Accuracy: {(training_pred == y_train).mean()}\")\n",
    "\n",
    "# val accuracy\n",
    "val_pred = model.predict(X_val)\n",
    "print(f\"Validation Accuracy: {(val_pred == y_val).mean()}\")\n",
    "\n",
    "# test accuracy\n",
    "test_pred = model.predict(X_test)\n",
    "print(f\"Test Accuracy: {(test_pred == y_test).mean()}\")"
   ]
  },
  {
   "cell_type": "markdown",
   "metadata": {},
   "source": [
    "3) SVM (20 points): In this question, we will be using the Car Evaluation dataset (car evaluation.csv). The target variable is the “label ” and all the rest are features"
   ]
  },
  {
   "cell_type": "code",
   "execution_count": 11,
   "metadata": {},
   "outputs": [
    {
     "name": "stdout",
     "output_type": "stream",
     "text": [
      "Training Accuracy: 0.9584942084942085\n",
      "Validation Accuracy: 0.9653179190751445\n",
      "Test Accuracy: 0.9450867052023122\n"
     ]
    }
   ],
   "source": [
    "# 3a) Shuffle the data with random seed 42, and split it into training, validation, and test splits, with a 60/20/20% ratio(e.g., use random_state in sklearn.model_selection.train_test_split). Train a SVM classifier (e.g., sklearn.svm.SVC) with regularization parameter C = 1.0 on the car-evaluation dataset using all the features and report the training/validation/test accuracy\n",
    "from sklearn.svm import SVC\n",
    "\n",
    "X, y = (car_evaluation.drop(columns=[\"label\"]), car_evaluation[\"label\"])\n",
    "\n",
    "# split into train & test (0.8, 0.2)\n",
    "X_train, X_test, y_train, y_test = train_test_split(\n",
    "    X, y, test_size=0.2, random_state=42\n",
    ")\n",
    "\n",
    "# split into train and val (0.6, 0.2)\n",
    "X_train, X_val, y_train, y_val = train_test_split(\n",
    "    X_train, y_train, test_size=0.25, random_state=42\n",
    ")\n",
    "\n",
    "model = SVC(C = 1.0)\n",
    "model.fit(X_train, y_train)\n",
    "\n",
    "# training accuracy\n",
    "training_pred = model.predict(X_train)\n",
    "print(f\"Training Accuracy: {(training_pred == y_train).mean()}\")\n",
    "\n",
    "# val accuracy\n",
    "val_pred = model.predict(X_val)\n",
    "print(f\"Validation Accuracy: {(val_pred == y_val).mean()}\")\n",
    "\n",
    "# test accuracy\n",
    "test_pred = model.predict(X_test)\n",
    "print(f\"Test Accuracy: {(test_pred == y_test).mean()}\")"
   ]
  },
  {
   "cell_type": "code",
   "execution_count": 12,
   "metadata": {},
   "outputs": [
    {
     "data": {
      "image/png": "[encoded data removed]",
      "text/plain": [
       "<Figure size 500x800 with 1 Axes>"
      ]
     },
     "metadata": {},
     "output_type": "display_data"
    }
   ],
   "source": [
    "# 3b) Consider values of C in the range {10−4, 10−3, ..., 103, 104}. Report (or plot) the train, validation, and test accuracy for each value of C. Based on these values, which classifier would you select (in terms of generalization performance) and why?\n",
    "import seaborn as sns\n",
    "\n",
    "C_values = [10**x for x in range(-4, 5)]\n",
    "\n",
    "train_acc, val_acc, test_acc = [], [], []\n",
    "for C in C_values:\n",
    "    model = SVC(C = C)\n",
    "    model.fit(X_train, y_train)\n",
    "\n",
    "    # training accuracy\n",
    "    training_pred = model.predict(X_train)\n",
    "    train_acc.append((training_pred == y_train).mean())\n",
    "\n",
    "    # val accuracy\n",
    "    val_pred = model.predict(X_val)\n",
    "    val_acc.append((val_pred == y_val).mean())\n",
    "\n",
    "    # test accuracy\n",
    "    test_pred = model.predict(X_test)\n",
    "    test_acc.append((test_pred == y_test).mean())\n",
    "\n",
    "C_values_log = np.log10(C_values)\n",
    "sns.set(style = \"whitegrid\")\n",
    "plt.figure(figsize = (5, 8))\n",
    "plt.plot(C_values_log, train_acc, label = \"Training Accuracy\", color = \"blue\", marker = 'o')\n",
    "plt.plot(C_values_log, val_acc, label = \"Validation Accuracy\", color = \"red\", marker = 'x')\n",
    "plt.plot(C_values_log, test_acc, label = \"Test Accuracy\", color = \"green\", marker = '^')\n",
    "plt.xlabel(\"log(C)\")\n",
    "plt.ylabel(\"Accuracy\")\n",
    "plt.grid(True)\n",
    "plt.legend()\n",
    "plt.show()"
   ]
  },
  {
   "cell_type": "markdown",
   "metadata": {},
   "source": [
    "In this case, the classifier I would choose would be the SVM classifier with a C value of $10^2$, or 100, because it had the highest testing accuracy while maintaining the peak validation accuracy. This, combined with a training accuracy of 100%, led it to be the best metric to be used within the SVM model, where the testing accuracy reached over 97% and the validation accuracy reached over 98%."
   ]
  },
  {
   "cell_type": "markdown",
   "metadata": {},
   "source": [
    "4) Decision Tree and Random Forest (20 points): In this question, we will be predicting wine quality for the Wine dataset. (’Wine.csv’ in Canvas). Use Macro average technique to compute precision, recall, f1-score and if not mentioned otherwise"
   ]
  },
  {
   "cell_type": "code",
   "execution_count": 13,
   "metadata": {},
   "outputs": [
    {
     "name": "stdout",
     "output_type": "stream",
     "text": [
      "Training Accuracy: 1.0\n",
      "Test Accuracy: 0.5604166666666667\n"
     ]
    },
    {
     "data": {
      "image/png": "[encoded data removed]",
      "text/plain": [
       "<Figure size 640x480 with 2 Axes>"
      ]
     },
     "metadata": {},
     "output_type": "display_data"
    },
    {
     "name": "stdout",
     "output_type": "stream",
     "text": [
      "Class 0 - Precision: 0.00, Recall: 0.00, F1-score: 0.00\n",
      "Class 1 - Precision: 0.08, Recall: 0.06, F1-score: 0.07\n",
      "Class 2 - Precision: 0.63, Recall: 0.62, F1-score: 0.62\n",
      "Class 3 - Precision: 0.56, Recall: 0.59, F1-score: 0.58\n",
      "Class 4 - Precision: 0.46, Recall: 0.46, F1-score: 0.46\n",
      "Class 5 - Precision: 0.25, Recall: 0.17, F1-score: 0.20\n",
      "\n",
      "Macro Average - Precision: 0.33, Recall: 0.32, F1-score: 0.32\n"
     ]
    }
   ],
   "source": [
    "# 4a) Shuffle the data with random seed 42, and split it into training and test sets, with 70/30 ratio. Train a Decision Tree classifier (e.g., sklearn.tree.DecisionTreeClassifier) on the training set only and report the confusion matrix on the test set using the trained model. Report the precision, recall and f1 score using the confusion matrix\n",
    "from sklearn.tree import DecisionTreeClassifier\n",
    "from sklearn.metrics import confusion_matrix, ConfusionMatrixDisplay, classification_report\n",
    "\n",
    "X, y = wine.drop(columns = ['quality']), wine['quality']\n",
    "X_train, X_test, y_train, y_test = train_test_split(X, y, test_size = 0.3, random_state = 42)\n",
    "\n",
    "model = DecisionTreeClassifier()\n",
    "model.fit(X_train, y_train)\n",
    "\n",
    "# training accuracy\n",
    "training_pred = model.predict(X_train)\n",
    "print(f\"Training Accuracy: {(training_pred == y_train).mean()}\")\n",
    "\n",
    "# test accuracy\n",
    "test_pred = model.predict(X_test)\n",
    "print(f\"Test Accuracy: {(test_pred == y_test).mean()}\")\n",
    "\n",
    "labels = sorted(y.unique())\n",
    "cm = confusion_matrix(y_test, test_pred, labels = labels)\n",
    "disp = ConfusionMatrixDisplay(cm, display_labels = labels)\n",
    "disp.plot()\n",
    "plt.grid(False)\n",
    "plt.show()\n",
    "\n",
    "precision = []\n",
    "recall = []\n",
    "f1_score = []\n",
    "\n",
    "for i in range(cm.shape[0]):\n",
    "    TP = cm[i, i] \n",
    "    FP = np.sum(cm[:, i]) - TP  \n",
    "    FN = np.sum(cm[i, :]) - TP\n",
    "\n",
    "    p = TP / (TP + FP) if TP + FP > 0 else 0  \n",
    "    r = TP / (TP + FN) if TP + FN > 0 else 0  \n",
    "    f1 = 2 * (p * r) / (p + r) if p + r > 0 else 0  \n",
    "\n",
    "    precision.append(p)\n",
    "    recall.append(r)\n",
    "    f1_score.append(f1)\n",
    "\n",
    "# Display per-class metrics\n",
    "for i in range(cm.shape[0]):\n",
    "    print(\n",
    "        f\"Class {i} - Precision: {precision[i]:.2f}, Recall: {recall[i]:.2f}, F1-score: {f1_score[i]:.2f}\"\n",
    "    )\n",
    "\n",
    "# Average metrics (Macro Average)\n",
    "avg_precision = np.mean(precision)\n",
    "avg_recall = np.mean(recall)\n",
    "avg_f1_score = np.mean(f1_score)\n",
    "\n",
    "print(\n",
    "    f\"\\nMacro Average - Precision: {avg_precision:.2f}, Recall: {avg_recall:.2f}, F1-score: {avg_f1_score:.2f}\"\n",
    ")"
   ]
  },
  {
   "cell_type": "code",
   "execution_count": 14,
   "metadata": {},
   "outputs": [
    {
     "name": "stdout",
     "output_type": "stream",
     "text": [
      "Training Accuracy: 1.0\n",
      "Test Accuracy: 0.6833333333333333\n"
     ]
    },
    {
     "data": {
      "image/png": "[encoded data removed]",
      "text/plain": [
       "<Figure size 640x480 with 2 Axes>"
      ]
     },
     "metadata": {},
     "output_type": "display_data"
    },
    {
     "name": "stdout",
     "output_type": "stream",
     "text": [
      "Class 0 - Precision: 0.00, Recall: 0.00, F1-score: 0.00\n",
      "Class 1 - Precision: 0.00, Recall: 0.00, F1-score: 0.00\n",
      "Class 2 - Precision: 0.74, Recall: 0.79, F1-score: 0.77\n",
      "Class 3 - Precision: 0.65, Recall: 0.71, F1-score: 0.68\n",
      "Class 4 - Precision: 0.61, Recall: 0.49, F1-score: 0.55\n",
      "Class 5 - Precision: 0.50, Recall: 0.17, F1-score: 0.25\n",
      "\n",
      "Macro Average - Precision: 0.42, Recall: 0.36, F1-score: 0.37\n"
     ]
    }
   ],
   "source": [
    "# 4b) (b) Using the same data and split, train a Random Forest classifier (e.g., sklearn.ensemble.RandomForestClassifier) on the training set only and report the confusion matrix on the test set using the trained model. Report the precision, recall and f1 score using the confusion matrix. Explain why Random Forest algorithm performs better than Decision Tree algorithm.\n",
    "from sklearn.ensemble import RandomForestClassifier\n",
    "\n",
    "model = RandomForestClassifier()\n",
    "model.fit(X_train, y_train)\n",
    "\n",
    "# training accuracy\n",
    "training_pred = model.predict(X_train)\n",
    "print(f\"Training Accuracy: {(training_pred == y_train).mean()}\")\n",
    "\n",
    "# test accuracy\n",
    "test_pred = model.predict(X_test)\n",
    "print(f\"Test Accuracy: {(test_pred == y_test).mean()}\")\n",
    "\n",
    "labels = sorted(y.unique())\n",
    "cm = confusion_matrix(y_test, test_pred, labels=labels)\n",
    "disp = ConfusionMatrixDisplay(cm, display_labels=labels)\n",
    "disp.plot()\n",
    "plt.grid(False)\n",
    "plt.show()\n",
    "\n",
    "precision = []\n",
    "recall = []\n",
    "f1_score = []\n",
    "\n",
    "for i in range(cm.shape[0]):\n",
    "    TP = cm[i, i]\n",
    "    FP = np.sum(cm[:, i]) - TP\n",
    "    FN = np.sum(cm[i, :]) - TP\n",
    "\n",
    "    p = TP / (TP + FP) if TP + FP > 0 else 0 \n",
    "    r = TP / (TP + FN) if TP + FN > 0 else 0\n",
    "    f1 = 2 * (p * r) / (p + r) if p + r > 0 else 0 \n",
    "\n",
    "    precision.append(p)\n",
    "    recall.append(r)\n",
    "    f1_score.append(f1)\n",
    "\n",
    "for i in range(cm.shape[0]):\n",
    "    print(\n",
    "        f\"Class {i} - Precision: {precision[i]:.2f}, Recall: {recall[i]:.2f}, F1-score: {f1_score[i]:.2f}\"\n",
    "    )\n",
    "\n",
    "avg_precision = np.mean(precision)\n",
    "avg_recall = np.mean(recall)\n",
    "avg_f1_score = np.mean(f1_score)\n",
    "\n",
    "print(\n",
    "    f\"\\nMacro Average - Precision: {avg_precision:.2f}, Recall: {avg_recall:.2f}, F1-score: {avg_f1_score:.2f}\"\n",
    ")"
   ]
  },
  {
   "cell_type": "markdown",
   "metadata": {},
   "source": [
    "In this case, Random Forest performs better than Decision Tree because there is reduced variance, reduced overfitting, and the fact that random forest tends to collect features that are random which inherently reduces bias. In this case, one thing that can be noticed is that the Random Forest is better at accurately predicting the true labels of 5 and 6 (which are most common within the dataset) compared to the DecisionTree. For instance, when the true label of a wine is 5 or 6, the Random Forest predicts it 149/195 = 76.4% and 137/200 = 68.5% of the time correctly, compared to Decision Tree's 122/195 = 62.6% and 114/200 = 57% for the same labels, which greatly influences their preicision, recall, f1-score, and accuracy."
   ]
  },
  {
   "cell_type": "markdown",
   "metadata": {},
   "source": [
    "4c) Suppose we have a dataset with 1000 negative samples and 10 positive samples, and a model was trained based on this dataset. Explain what could happen and why precision and recall would be a better evaluation metrics than accuracy in this case.\n",
    "\n",
    "For a dataset with 1000 negative samples and only 10 positive samples, it's important to realize that precision and recall are better than accuracy. In particular, with accuracy, it can be easy to get a very high accuracy but actually end up with unimportant results. For instance, let's say we trained a model that generalized everything to negative. If our training set had 100 negative samples and only 1 positive sample, it would be correct 100/101 = 99.1% of the time, which is normally great! However, if we want to place importance onto getting the positive samples correct, than this sucks, because it will predict the positive sample incorrectly. In this case, precision and recall would be better metrics to use, because we could more accurately see how well the model generalized for each label, rather than for a dataset as a whole."
   ]
  },
  {
   "cell_type": "markdown",
   "metadata": {},
   "source": [
    "5) Bias vs Variance"
   ]
  },
  {
   "cell_type": "markdown",
   "metadata": {},
   "source": [
    "5a) State briefly what you understand by the bias-variance tradeoff.\n",
    "\n",
    "From my understanding of the bias variance tradeoff, it's a tradeoff that exemplifies and explains a lot of the complexity that a model may have. For instance, the bias term of a model refers to errors that are introduced by simplifying a model, usually by introducing something like regularization. When there is a high bias in a model, a model is typically too simple and can't capture patterns within the data. On the other hand, the variance of a model refers to errors that can come from overfitting, or having a model that is too complex without enough regularization. This captures unintended noise from experiments and can make bad predictions. Typically, when there is a high bias, there is lower variance, and vice versa, meaning we need to find a balance between bias and variance in order to create a model that is neither too simple nor too complex."
   ]
  },
  {
   "cell_type": "markdown",
   "metadata": {},
   "source": [
    "5b) What happens to the bias and variance when the number of training samples increases?\n",
    "\n",
    "As the number of training samples increase, bias typically decreases or remains roughly the same because models are typically better at generalizing as they get more and more data. This means there is less risk of underfitting since the model can capture more complex relationships. Similarly, variance will normally also decrease, beacuse more and more data will allow a model to stabilize it's predictions and become less sensitive to individual training examples, which may have introduced noise before."
   ]
  },
  {
   "cell_type": "markdown",
   "metadata": {},
   "source": [
    "5c) Suppose you decide to use the k-Nearest Neighbors (KNN) classifier for a classification problem. In this problem, assume that you are given a fixed number of training samples. You can choose either 1 or 100 as your value of k, the number of neighbors to be considered for classification. Which k would give you higher variance? Which k would give you higher bias? Explain.\n",
    "\n",
    "The k that would give you the higher variance would be when k = 1. This is because the model would typically overfit when k = 1, beacuse k = 1 introduces a lot of errors, especially when there are points that have noise. This would lead to overfitting, as the model would be subject to all this unnecessary noise and become hyperspecific. The k that would give a higher bias would be when k = 100, because our model would be simplified, where individual points would have overall less influence. The decision boundary of this model would be very smooth, with predictions being averaged over many neighbors, however, there is a chance that the model misses patterns by averaging too much, leading it to having a higher bias. "
   ]
  }
 ],
 "metadata": {
  "kernelspec": {
   "display_name": "base",
   "language": "python",
   "name": "python3"
  },
  "language_info": {
   "codemirror_mode": {
    "name": "ipython",
    "version": 3
   },
   "file_extension": ".py",
   "mimetype": "text/x-python",
   "name": "python",
   "nbconvert_exporter": "python",
   "pygments_lexer": "ipython3",
   "version": "3.12.7"
  }
 },
 "nbformat": 4,
 "nbformat_minor": 2
}
